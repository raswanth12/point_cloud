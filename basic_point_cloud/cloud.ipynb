{
 "cells": [
  {
   "cell_type": "code",
   "execution_count": 19,
   "metadata": {},
   "outputs": [],
   "source": [
    "from mpl_toolkits.mplot3d import Axes3D\n",
    "import matplotlib.pyplot as plt\n",
    "import pandas as pd\n",
    "import numpy as np\n",
    "from glob import glob\n",
    "import os\n",
    "%matplotlib inline\n",
    "all_paths = [os.path.join(path, file) for path, _, files in os.walk(top=os.path.join('..', 'input'))\n",
    "             for file in files if ('.labels' in file) or ('.txt' in file)]\n",
    "label_names = {0: 'unlabeled', 1: 'man-made terrain', 2: 'natural terrain', 3: 'high vegetation',\n",
    "               4: 'low vegetation', 5: 'buildings', 6: 'hard scape', 7: 'scanning artefacts', 8: 'cars'  }\n"
   ]
  },
  {
   "cell_type": "code",
   "execution_count": 32,
   "metadata": {},
   "outputs": [
    {
     "name": "stdout",
     "output_type": "stream",
     "text": [
      "1000 rows 20 number of filtered rows\n"
     ]
    }
   ],
   "source": [
    "import pandas as pd\n",
    "import numpy as np\n",
    "\n",
    "# Define a sample dataframe\n",
    "full_df = pd.DataFrame(np.random.randint(\n",
    "    0, 100, size=(1000, 4)), columns=list('ABCD'))\n",
    "\n",
    "# Filter rows using the modulo operation\n",
    "test_df = full_df[(full_df.index % 50) == 0]\n",
    "\n",
    "# Print the number of rows in the full and filtered dataframes\n",
    "print(full_df.shape[0], 'rows', test_df.shape[0], 'number of filtered rows')\n"
   ]
  },
  {
   "cell_type": "code",
   "execution_count": 33,
   "metadata": {},
   "outputs": [
    {
     "name": "stderr",
     "output_type": "stream",
     "text": [
      "UsageError: Line magic function `%` not found.\n"
     ]
    }
   ],
   "source": [
    "% % time\n",
    "fig = plt.figure(figsize=(15, 10))\n",
    "ax = plt.axes(projection='3d')\n",
    "ax.scatter(\n",
    "    test_df['x'], test_df['y'], test_df['z'],\n",
    "    c=test_df[['r', 'g', 'b']].values/255, s=3)\n",
    "ax.view_init(15, 165)\n"
   ]
  }
 ],
 "metadata": {
  "kernelspec": {
   "display_name": "Python 3",
   "language": "python",
   "name": "python3"
  },
  "language_info": {
   "codemirror_mode": {
    "name": "ipython",
    "version": 3
   },
   "file_extension": ".py",
   "mimetype": "text/x-python",
   "name": "python",
   "nbconvert_exporter": "python",
   "pygments_lexer": "ipython3",
   "version": "3.11.3"
  },
  "orig_nbformat": 4
 },
 "nbformat": 4,
 "nbformat_minor": 2
}
